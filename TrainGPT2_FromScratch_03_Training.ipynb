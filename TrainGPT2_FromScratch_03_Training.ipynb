{
  "nbformat": 4,
  "nbformat_minor": 0,
  "metadata": {
    "colab": {
      "name": "TrainGPT2-FromScratch-03-Training",
      "provenance": [],
      "collapsed_sections": [],
      "toc_visible": true,
      "machine_shape": "hm"
    },
    "kernelspec": {
      "name": "python3",
      "display_name": "Python 3"
    },
    "accelerator": "GPU"
  },
  "cells": [
    {
      "cell_type": "code",
      "metadata": {
        "id": "KBkpRgBCBS2_",
        "colab_type": "code",
        "outputId": "019b9cee-d361-42b7-8dc8-50ff957d935c",
        "colab": {
          "base_uri": "https://localhost:8080/",
          "height": 191
        }
      },
      "source": [
        "%tensorflow_version 1.x\n",
        "!pip install -q gpt-2-simple\n",
        "import gpt_2_simple as gpt2\n",
        "from datetime import datetime\n",
        "from google.colab import files"
      ],
      "execution_count": 1,
      "outputs": [
        {
          "output_type": "stream",
          "text": [
            "TensorFlow 1.x selected.\n",
            "  Building wheel for gpt-2-simple (setup.py) ... \u001b[?25l\u001b[?25hdone\n",
            "WARNING:tensorflow:\n",
            "The TensorFlow contrib module will not be included in TensorFlow 2.0.\n",
            "For more information, please see:\n",
            "  * https://github.com/tensorflow/community/blob/master/rfcs/20180907-contrib-sunset.md\n",
            "  * https://github.com/tensorflow/addons\n",
            "  * https://github.com/tensorflow/io (for I/O related ops)\n",
            "If you depend on functionality not listed there, please file an issue.\n",
            "\n"
          ],
          "name": "stdout"
        }
      ]
    },
    {
      "cell_type": "code",
      "metadata": {
        "id": "sUmTooTW3osf",
        "colab_type": "code",
        "outputId": "85dba2a3-db01-4ba5-c660-cf59ce0f05bc",
        "colab": {
          "base_uri": "https://localhost:8080/",
          "height": 364
        }
      },
      "source": [
        "!nvidia-smi"
      ],
      "execution_count": 2,
      "outputs": [
        {
          "output_type": "stream",
          "text": [
            "Mon Jun 15 10:12:25 2020       \n",
            "+-----------------------------------------------------------------------------+\n",
            "| NVIDIA-SMI 450.36.06    Driver Version: 418.67       CUDA Version: 10.1     |\n",
            "|-------------------------------+----------------------+----------------------+\n",
            "| GPU  Name        Persistence-M| Bus-Id        Disp.A | Volatile Uncorr. ECC |\n",
            "| Fan  Temp  Perf  Pwr:Usage/Cap|         Memory-Usage | GPU-Util  Compute M. |\n",
            "|                               |                      |               MIG M. |\n",
            "|===============================+======================+======================|\n",
            "|   0  Tesla P100-PCIE...  Off  | 00000000:00:04.0 Off |                    0 |\n",
            "| N/A   40C    P0    26W / 250W |      0MiB / 16280MiB |      0%      Default |\n",
            "|                               |                      |                 ERR! |\n",
            "+-------------------------------+----------------------+----------------------+\n",
            "                                                                               \n",
            "+-----------------------------------------------------------------------------+\n",
            "| Processes:                                                                  |\n",
            "|  GPU   GI   CI        PID   Type   Process name                  GPU Memory |\n",
            "|        ID   ID                                                   Usage      |\n",
            "|=============================================================================|\n",
            "|  No running processes found                                                 |\n",
            "+-----------------------------------------------------------------------------+\n"
          ],
          "name": "stdout"
        }
      ]
    },
    {
      "cell_type": "code",
      "metadata": {
        "id": "P8wSlgXoDPCR",
        "colab_type": "code",
        "outputId": "cf839a5d-2658-49ea-fa43-3125492f3d6e",
        "colab": {
          "base_uri": "https://localhost:8080/",
          "height": 139
        }
      },
      "source": [
        "gpt2.download_gpt2(model_name=\"124M\")"
      ],
      "execution_count": 3,
      "outputs": [
        {
          "output_type": "stream",
          "text": [
            "Fetching checkpoint: 1.05Mit [00:00, 405Mit/s]                                                      \n",
            "Fetching encoder.json: 1.05Mit [00:00, 89.8Mit/s]                                                   \n",
            "Fetching hparams.json: 1.05Mit [00:00, 878Mit/s]                                                    \n",
            "Fetching model.ckpt.data-00000-of-00001: 498Mit [00:07, 68.4Mit/s]                                  \n",
            "Fetching model.ckpt.index: 1.05Mit [00:00, 476Mit/s]                                                \n",
            "Fetching model.ckpt.meta: 1.05Mit [00:00, 165Mit/s]                                                 \n",
            "Fetching vocab.bpe: 1.05Mit [00:00, 199Mit/s]                                                       \n"
          ],
          "name": "stderr"
        }
      ]
    },
    {
      "cell_type": "code",
      "metadata": {
        "id": "CAtbai30lVvJ",
        "colab_type": "code",
        "outputId": "2dd64213-ca8b-4aeb-f913-942f438a59b9",
        "colab": {
          "base_uri": "https://localhost:8080/",
          "height": 34
        }
      },
      "source": [
        "!ls /content/models"
      ],
      "execution_count": 4,
      "outputs": [
        {
          "output_type": "stream",
          "text": [
            "124M\n"
          ],
          "name": "stdout"
        }
      ]
    },
    {
      "cell_type": "code",
      "metadata": {
        "id": "puq4iC6vUAHc",
        "colab_type": "code",
        "outputId": "96efb846-f343-421e-8a10-07879d669a4d",
        "colab": {
          "base_uri": "https://localhost:8080/",
          "height": 124
        }
      },
      "source": [
        "gpt2.mount_gdrive()"
      ],
      "execution_count": 5,
      "outputs": [
        {
          "output_type": "stream",
          "text": [
            "Go to this URL in a browser: https://accounts.google.com/o/oauth2/auth?client_id=947318989803-6bn6qk8qdgf4n4g3pfee6491hc0brc4i.apps.googleusercontent.com&redirect_uri=urn%3aietf%3awg%3aoauth%3a2.0%3aoob&response_type=code&scope=email%20https%3a%2f%2fwww.googleapis.com%2fauth%2fdocs.test%20https%3a%2f%2fwww.googleapis.com%2fauth%2fdrive%20https%3a%2f%2fwww.googleapis.com%2fauth%2fdrive.photos.readonly%20https%3a%2f%2fwww.googleapis.com%2fauth%2fpeopleapi.readonly\n",
            "\n",
            "Enter your authorization code:\n",
            "··········\n",
            "Mounted at /content/drive\n"
          ],
          "name": "stdout"
        }
      ]
    },
    {
      "cell_type": "code",
      "metadata": {
        "id": "Y4p__Devp9mK",
        "colab_type": "code",
        "colab": {}
      },
      "source": [
        "file_name = \"Hebrew_Bible-k_encoded.npz\"\n",
        "!cp \"/content/drive/My Drive/colab_data/gpt2/$file_name\" \"/content/$file_name\"\n",
        "\n",
        "run_name = \"Hebrew_Bible-k\"\n"
      ],
      "execution_count": 0,
      "outputs": []
    },
    {
      "cell_type": "code",
      "metadata": {
        "id": "nhGEcy4E8BIT",
        "colab_type": "code",
        "colab": {}
      },
      "source": [
        "#######   Do this only on the very first run\n",
        "!mkdir /content/chekpoint\n",
        "!cp -r \"/content/drive/My Drive/colab_data/gpt2/$run_name\" \"/content/checkpoint/\"\n",
        "###################################\n",
        "\n",
        "\n",
        "#######   On the folllowing runs do this instead\n",
        "#gpt2.copy_checkpoint_from_gdrive(run_name=run_name)\n",
        "###################################\n",
        "\n",
        "!rm /content/models/124M/vocab.bpe\n",
        "!cp \"/content/checkpoint/$run_name/vocab.bpe\" /content/models/124M/\n",
        "!rm /content/models/124M/encoder.json\n",
        "!cp \"/content/checkpoint/$run_name/encoder.json\" /content/models/124M/"
      ],
      "execution_count": 0,
      "outputs": []
    },
    {
      "cell_type": "markdown",
      "metadata": {
        "id": "LdpZQXknFNY3",
        "colab_type": "text"
      },
      "source": [
        "## Finetune GPT-2\n",
        "\n",
        "The next cell will start the actual finetuning of GPT-2. It creates a persistent TensorFlow session which stores the training config, then runs the training for the specified number of `steps`. (to have the finetuning run indefinitely, set `steps = -1`)\n",
        "\n",
        "The model checkpoints will be saved in `/checkpoint/run1` by default. The checkpoints are saved every 500 steps (can be changed) and when the cell is stopped.\n",
        "\n",
        "The training might time out after 4ish hours; make sure you end training and save the results so you don't lose them!\n",
        "\n",
        "**IMPORTANT NOTE:** If you want to rerun this cell, **restart the VM first** (Runtime -> Restart Runtime). You will need to rerun imports but not recopy files.\n",
        "\n",
        "Other optional-but-helpful parameters for `gpt2.finetune`:\n",
        "\n",
        "\n",
        "*  **`restore_from`**: Set to `fresh` to start training from the base GPT-2, or set to `latest` to restart training from an existing checkpoint.\n",
        "* **`sample_every`**: Number of steps to print example output\n",
        "* **`print_every`**: Number of steps to print training progress.\n",
        "* **`learning_rate`**:  Learning rate for the training. (default `1e-4`, can lower to `1e-5` if you have <1MB input data)\n",
        "*  **`run_name`**: subfolder within `checkpoint` to save the model. This is useful if you want to work with multiple models (will also need to specify  `run_name` when loading the model)\n",
        "* **`overwrite`**: Set to `True` if you want to continue finetuning an existing model (w/ `restore_from='latest'`) without creating duplicate copies. "
      ]
    },
    {
      "cell_type": "code",
      "metadata": {
        "id": "aeXshJM-Cuaf",
        "colab_type": "code",
        "outputId": "ca0199e2-e50e-49be-d5c0-7754cdf300c1",
        "colab": {
          "base_uri": "https://localhost:8080/",
          "height": 1000
        }
      },
      "source": [
        "sess = gpt2.start_tf_sess()\n",
        "\n",
        "gpt2.finetune(sess,\n",
        "              dataset=file_name,\n",
        "              model_name='124M',\n",
        "              steps=5000,\n",
        "              restore_from='latest',\n",
        "              run_name=run_name,\n",
        "              print_every=50,\n",
        "              sample_every=500,\n",
        "              save_every=1000,\n",
        "              overwrite=True\n",
        "              )"
      ],
      "execution_count": 0,
      "outputs": [
        {
          "output_type": "stream",
          "text": [
            "WARNING:tensorflow:From /usr/local/lib/python3.6/dist-packages/gpt_2_simple/src/sample.py:17: where (from tensorflow.python.ops.array_ops) is deprecated and will be removed in a future version.\n",
            "Instructions for updating:\n",
            "Use tf.where in 2.0, which has the same broadcast rule as np.where\n",
            "Loading checkpoint checkpoint/Hebrew_Bible-k/model-5000\n",
            "INFO:tensorflow:Restoring parameters from checkpoint/Hebrew_Bible-k/model-5000\n"
          ],
          "name": "stdout"
        },
        {
          "output_type": "stream",
          "text": [
            "100%|██████████| 1/1 [00:00<00:00, 20.87it/s]"
          ],
          "name": "stderr"
        },
        {
          "output_type": "stream",
          "text": [
            "Loading dataset...\n",
            "dataset has 1173016 tokens\n",
            "Training...\n",
            "Saving checkpoint/Hebrew_Bible-k/model-5000\n"
          ],
          "name": "stdout"
        },
        {
          "output_type": "stream",
          "text": [
            "\n"
          ],
          "name": "stderr"
        },
        {
          "output_type": "stream",
          "text": [
            "Saving checkpoint/Hebrew_Bible-k/model-5000\n",
            "======== SAMPLE 1 ========\n",
            ";\n",
            "כח בימים, ההם לאלוהים:  אם-יתכפרכות את-כל-המלאכה, אשר-אני נותן הלויים--כי בידך, ועצובת ממנו ועל-כל-יהודה. \n",
            "כט ושמע, מבני-לך--למה בכפי, על-ירושלים. \n",
            "ללמיתי את-מצוות יהוה אלוהיך, לכפר לפניך; ושמע, את כל-הרעה, אשר ציוויתי, אליך. \n",
            "לא כי את-כל-דבריו יהוה בך, למען לריבי; עת, את-כל-דבריו יהוה בך, והחרש, ידעיה. \n",
            "לב כי גויים, יצאת, ונטיתי, היאספו; הדברים מלכי, אשר תעשון נכונים. \n",
            "לג לא נעדר, אשר שלח ליהוה אלוהיך, כסוי ליהוה אלוהיהם. \n",
            "לד והצתי יהוה אלוהינו, וסביב הארץ; עת ולמען האשם, ליהוה אלוהיהם. \n",
            "לה ולא-אסתיר אדוני אלוהיך, ליהוה אלוהיך:  כי אדבר, לפני יהוה אלוהיך--שאלו הוא. \n",
            "לו והייתה פלשתים, לחדש העם; והייתהים חירפת אלוהייך ודמה ברושים בכל-זרע עמון, כי עלית ליהוה. \n",
            "לז נוגף, חבקוק, שימני, ליהוה; והייתה נאנאוה ושרק, בכל-הארצות ליהוה. \n",
            "לח ויאמר יהוה אלוהיך בערב לי, חורבה ימיך, וינס ממך, לכוהן:  פן-יהיה, לאכול-לחם לגבולם. \n",
            "לט הגידו יהוה אלוהיך, לא נוכל, שופטיםים נקםות, כמוך אליי; לא-יישא ראה, בכל-וניא. \n",
            "מ ערוך כמים, מסביב; ושאול, ישחקו יהוה אלוהיך.  \n",
            "\n",
            "מא לבני, אמציהו בו, לאמור:  באנשי ממך, קיד--דברו לי. \n",
            "מב ועברו, לי; וכול נחפשו, לקראתו. \n",
            "מג אם-לא אביך אלוהיך אל-תיראי, אשר יבחר יהוה אלוהיך, לרדת;האנשים, כאשר תבלענותי. \n",
            "מד וישכב אותה עם-אבותיו, וייקבר בשומרון; וימלוך על-רוחצת ועל-פיך וירושלים, ועל-יושבי יהודה הישועה. \n",
            "מה וגם-אני, היה הדבר הזה:  ישמעאל, בעיניו. \n",
            "מו ולא-ישאו עין היום הזה, לפני יהוה אלוהיך--פן-הקיםתשעים, ועל-המקום אשר שלחו יהוה אלוהיך; ויכו-לו עתה, תבלענו. \n",
            "מז ונצ--אס חוק, לעשות הרע בעיני יהוה; והימים כשקמים, תפארת טרף. \n",
            "מח מי- תודות עד-מאוד, בכל-הגויים; ונתתי לחם, לנער. \n",
            "מט והיו, לפניו; ויחדל, על-ייכלמו. \n",
            "נ מי המכים, באמה כלים עשר רכב ינחיל מנעוריו ועל-הבמות--החידה, הגר בתוככם; והיו אמר אליי, מקציעשה. \n",
            "נא ונתתי להם בערוער, משל אליי; ויחדלט וייחנק, ככל-עמל ודעתפשחור המלך--גם, דואג מורדכיי. \n",
            "נב וישב וזעקו, מעם הכיפורים; ויפק כמו-גדול מורדכיי, ולא סורר המלך. \n",
            "נג כי-שם אליי תזמור ביום רעה החיה, ולחם עשית; וגם-חרה מורדכיי אם-ואהלות איש, יום מורדכיי.\n",
            "דברים פרק ג\n",
            "א וככלות החודש, הגלה אל-יואב, ולא יראה את-בני העם, ואחת, בידו. \n",
            "ב כי כאשר אמר לבן לאל-בוצע, חרון-נא די-אלה, וקמויט; ואף יונה, לנביא. \n",
            "ג ובא אישה אשר יירש, חברים הארצות; כמגדל אשלחך והרביתי וענ, וכבוד יהוה, כי-סדום אביו. \n",
            "ד ובחודש, קרא נא אביו--לבנות, ולנטוע.  \n",
            "\n",
            "ה כי-כה אמר לבן הנותן כרים, יצלח כנשר הדברים האלה, ואש, לא תזרעו לבן--וטימאו עם-עמי נתנועיינות, שבעים אשתו. \n",
            "ו כי-כה אמר עיניך ואז, הלוא ענייה רבה די-מיתר כאור די-נא לא שלחך:  כי איתיי השור-רוח, אכיש.  \n",
            "\n",
            "ז כי תימלא, אדם עמד הרקות--הוה המזבח, יהיה-שם. \n",
            "ח כי תימלא, וימלאון כנשר הדברים, בפעם, לא- ואשבה משקה:  כי-עז יהיה,מב יער וחמש. \n",
            "ט אדיין מלכא אנה, אם-בעי כנשריתיך--ולא כונן. \n",
            "י פאר אדוניי, ויגרשויא פן-בעי; ויחזקם. \n",
            "יאcכין כנשר, ארך כספא בך, למען בצוע, ועשית לא- ואשבה בך--עד-מה תברכך, בעוניי. \n",
            "יב ואחריו כנשר, ומצריים, ואבוא. \n",
            "יג ויאמר, לא-נא לי, מה-זאת בזה; הלוא תבוא מה-תיתן אתה, מה-לכם. \n",
            "יד לא-חלב בך, יאמר:  ורחמיך, מה-עלה לי. \n",
            "טו לא-אניס בך,הלבנון נפשי; קווה לו, לשאול. \n",
            "טז לא-אניס בך, בישראל:  כי-אם-הובישסיע-לי עד-עולם, ולא השאיר, בביתך. \n",
            "יז לא-אניס בך, ואהבתיו; קווה לו, לשאול. \n",
            "יח מה-סבבוני נפשי, כןיהוידע אחיך, וכול השופ, בחוקות נפשי; ולקצת, לא-אניס בך. \n",
            "יטלדור ישתו, לא קץ, אכזרי, והלכת; שדות להושיע--נאום, בתוכך דויד, לא- איתיי לנער.  \n",
            "\n",
            "כ כי נמצא עמים רבים, מקום לא האחד; ובחר משבא הגדול, ויושבי יישב אלה. \n",
            "כא כי לא- התנופה\n",
            "\n",
            "[5050 | 86.29] loss=0.10 avg=0.10\n",
            "[5100 | 148.78] loss=0.10 avg=0.10\n",
            "[5150 | 211.31] loss=0.09 avg=0.10\n",
            "[5200 | 273.79] loss=0.11 avg=0.10\n",
            "[5250 | 336.28] loss=0.13 avg=0.11\n",
            "[5300 | 398.79] loss=0.10 avg=0.11\n",
            "[5350 | 461.26] loss=0.09 avg=0.10\n",
            "[5400 | 523.75] loss=0.13 avg=0.11\n",
            "[5450 | 586.24] loss=0.09 avg=0.10\n",
            "[5500 | 648.68] loss=0.12 avg=0.11\n",
            "======== SAMPLE 1 ========\n",
            "; \n",
            "ב יז,כו וישמע, את-קול העם; בעבר יהוה, את-קול העם אל-המלך אליו, בארץ מצריים, אשר הסריסים, כאשר, מחסי לכם. \n",
            "ב יז,כז כה אמר יהוה, אחיתופל יראה פרעה:  את שארית הזה, אבותיכם לבנות היום. \n",
            "ב יז,כח מעפר העם, ויימלט אל-העם הזה, וקראתי, כל- הינכיסא, אשר בארץ יכול אותה מלחמה--פעמ, כורת אברהם, ויאמר, יהוה אלוהיהם אל-העם הזה. \n",
            "ב יז,כט ותעד אותם לבוא בארץ-מצריים, לבוא בית אחאב; וילכו וילכו מאת-תפ דרך שלושת ימים, ובני ישראל בארץ-שוע ואת-גחון, ובני-נהר-כבר, עד-היום. \n",
            "ב יז,ל ויטו שר-צבאו אל-עירו אחריו, לרשת את-אוזן עבדך כזאת, לשלוח עבדך. \n",
            "ב יז,לא ויאמר הדדעזר שר-צבאו, כי-ניתן החוקים אל-שער פק הנשיאים, תקו החוזים, את-יואב; והמה, כוהני-חטאת אל-קבר, לרשת את-יואב. \n",
            "ב יז,לב ויטו שר-צבאו, להכעיס את-יואב; וייקח הדדעזר, ואבנה הדדעזר,יהושפט, את- סלע ואת-החלבים. \n",
            "ב יז,לג ויבט את-איש הרשעה, ומידאלוה ורעב; וייתן, את-דמו, דבור את-יואב. \n",
            "ב יז,לד ואחרי, הדדעזר;לשאול, את-דויד, להכעיס את-עבדיו, בשלישים. \n",
            "ב יז,להלשאול מעל, כי-כן עליה; והעם אל- ונעבוד--מינ, לקח אחד על-העריםכוד. \n",
            "ב יז,לו עוד, כל-עדת בני-ישראל, את-מי, לשתות אתה ובניך, כי קמו אבותינו. \n",
            "ב יז,לז אתה ידעת את-בן-בנו אל-הבית, וטובייה התמהמה, ביע עליון; אתה עתה, אל-המקום אשר הראה. \n",
            "ב יז,לח ואת-בן-בנו אל-הבית, ממלחמה את-יואב, וייצאו ממנו אל-ארץ הגושן הזה; ואתה סתום סתום סתום, והחמור מישראל. \n",
            "ב יז,לט בצר אלוהים, בית צרה; ויימלט יהוה, בם בשלווה-הבית. \n",
            "ב יז,מחטאותיכם שדה, מנגב נפשי; והיא ללאה,תשגניון, מן- השאת. \n",
            "ב יז,מא אשמה שדה ואבות השמיים, ולשונו מרכבות שדה:  כי גם במלכותו, וכש מלא. \n",
            "ב יז,מב בצינור ערי סיניי, מלכיא החצרקה אחד; ושבו, וימר-איש. \n",
            "ב יז,מג בשתיים כסףיימצאח, ותגדל יעשה; והמה, יבוא עובר. \n",
            "ב יז,מד מפניו ברזל, כי צד לאחור; והמה, את-פני יהוה אלוהיך, מעל האדמה, אשרטימא, את-יהוכל. \n",
            "ב יז,מה פשעיהם, ולא- וחוקותיייד-כנפיו בם, ועם-הכיכר; ואכלת את-כל-הארץ הטובה, אשר בחרתי. \n",
            "ב יז,מו כי בך, המון יענה שומראדמתך--כי אני יהוה, עימם עליון:  כי המקום אשר-איתו הוא, עליכם האלוהים. \n",
            "ב יז,מז ועשיתם, את-כל-הארץ הטובה, אשר בחרתי:  כי לא-היה המקום אשר-איתו הוא, עליכם האלוהים. \n",
            "ב יז,מח ויעש מלאו אתם ישאל, ואני גדול:  ולמען לו עתה, ליהוה אלוהיך אלוהיך. \n",
            "ב יז,מט ועתה, את פני- עשוקים קדמה, ועל-כל-מנגב, ואבואה:  ועל, כל- נוא. \n",
            "ב יז,נ לא-היה, איתי קודשי--אם- מקדשיהם באפרתה, עד אשר-אתה בא-שמה לרשתה.  \n",
            "\n",
            "ב יז,נא ותשלם, כל-הגויים:  ועל- מקדשיהם באפרתה, יהיה לכם. \n",
            "ב יז,נב בבית, תבוא--קרעו, ובקולו לגורסות לכם:  ועד-הנה לכם יהיה לכם, בתוך לכם שממה. \n",
            "ב יז,נג ועבדך-רוח בהמה, ועד- דא ועד-יהיה לכם וארץ, וארץ הבאים:  כי מפני, אשר-נקרא לכם--יאמר-שמה. \n",
            "ב יז,נד לי, אורידם--טוב, ובית חרב; ולא-אוכל עוד לכם, וארץ האותות הבאים. \n",
            "ב יז,נה ועד-ירמיהו, גבר הגדולה--לעשות, לכם:  וארץ תאכלנו, כסף. \n",
            "ב יז,נו ועד-רוח, תאכלנו--חנה שמח, יוקשים, בתוך בני ישראל. \n",
            "ב יז,נז עולה, עומדת הדדעזר, וארץ תאכלנו, ועד- דא, וארץ תאכלנו. \n",
            "ב יז,נח ועד-רוח, וארץ תאכלנו--מורבכת, אשר-יהיה לכם. \n",
            "ב יז,נט זבח-אני, ליהוה אלוהיך; מקצ פרעה, ליהוה אלוהיכם. \n",
            "ב יז,ס והתחננו פרעה על-ביתו, לקראתם--לבית סיסרא. \n",
            "ב יז,סא ויאמר אליהם נותן פרעה את-ליבו, קומו בני; ובימי איתו יהיה, שניים ותולעת. \n",
            "\n",
            "\n",
            "[5550 | 722.50] loss=0.09 avg=0.10\n",
            "[5600 | 784.95] loss=0.09 avg=0.10\n",
            "[5650 | 847.46] loss=0.12 avg=0.10\n",
            "[5700 | 909.93] loss=0.10 avg=0.10\n",
            "[5750 | 972.40] loss=0.13 avg=0.11\n",
            "[5800 | 1034.93] loss=0.09 avg=0.10\n",
            "[5850 | 1097.38] loss=0.08 avg=0.10\n",
            "[5900 | 1159.87] loss=0.07 avg=0.10\n",
            "[5950 | 1222.33] loss=0.08 avg=0.10\n",
            "[6000 | 1284.88] loss=0.07 avg=0.10\n",
            "Saving checkpoint/Hebrew_Bible-k/model-6000\n",
            "WARNING:tensorflow:From /tensorflow-1.15.2/python3.6/tensorflow_core/python/training/saver.py:963: remove_checkpoint (from tensorflow.python.training.checkpoint_management) is deprecated and will be removed in a future version.\n",
            "Instructions for updating:\n",
            "Use standard file APIs to delete files with this prefix.\n",
            "======== SAMPLE 1 ========\n",
            ".;    ראיתי, תחת זרים.\n",
            "לד  מי אתה גדול, והוא לא-ידע;    ראיתי לראות מרמה.\n",
            "לה  ישחק, עין הולך:    קמו עליי ונישא תקווה.\n",
            "לו  ישחק, מנגד    אחר--להם, מותה ישמורו.\n",
            "לז  אז תחפוץ נשאתני,    ויאמר: לחוף לא- כהישפט;    לא-פשעינו לצור.\n",
            "לח  בתז שמיים, חזיר מז--    הלוא, תיהלך יגון:אל-ב ירמיהו, מבור אדמתי--    עד, בכושרות לא יבין.\n",
            "לט  ויזעקו אל-יהוה,    ניצב:ואודך,    כל-בשר, גפןידה.\n",
            "מ  ויחר--    לפני-יהוה, נמלטיון.\n",
            "מא  וישפכו, מה-הוא;    אל-אבושי, מה- ליראיך.\n",
            "מב  וישפכו, מה-הוא;    וחושך, מה- ליראיך.\n",
            "מג  וישפכו, מה-חת;    ציון, את- וחג.\n",
            "מד  ויאמר,    ואת-קמואל:אשר תנה,נקמתך ימה;    וחרמונים, מעיניי.\n",
            "מה  אז תחפוץ,    על-שעריה;    ואל-תשתי, כיאחיכם.\n",
            "מו  יודו לעץ,    ליהודה:אשר-בו, ייסוב.\n",
            "מז  יודו,אז בני-שנה;    אם- בשמו, אל-רשע.\n",
            "מח  המלך יד, לא-עוזר בית אוון;    וימשש מרעים, אם-לא  .\n",
            "מט  בור ביתי, אלוהי יעקוב;    העלמה אקום, כל-בני-חיל.\n",
            "נ  ימור, הולך הלוך;    ועשהבלט יושיע.\n",
            "נא  י בליבו,    כ אצמית:אשר-בו, ייסוב; אוליי מקורו מואב,    ורפח פנים.\n",
            "נב   תרומותיכםמתסרי, על-חיל;    ואל-תתעלם, נחש ההין.\n",
            "נג  ונבעת, כי-יש-רוח;    ואל-בן, יוסיף.\n",
            "נד  כי-בו, אתה, פני-קעילה;    אחזני, פני תשל.\n",
            "נה  שרופה, פני מכסף;    והגד, עליי לאביונים.\n",
            "נו  כי-שאל, יגילון רוב;    עצה, לשון כמב.\n",
            "נז  ויך- ואיננו, על-ראשי--    כפף, צדיק בהמון.\n",
            "נח  בחיהם, על-מיםמיםאב;    והגד, תמיתוהו-בר.\n",
            "נט   ויצהר עני דעי;    יכחשו רשעים, לגויים.\n",
            "ס  כי, אם-יש-איש-אל-רבים;    ואל- יריע, אם- תדרכי, נגדעה-פיו.\n",
            "סא  שפטו-אדם, יליץ;    ושונא רשעים, ומושיע תישאון.\n",
            "סב  לבחת--ימחץ, ייפול-דרך;    ושונא רשעים, משוד בלהות.\n",
            "סג  לג רשעים,כרו, ויום, עימך;    ויוסיף עליו, ובנותיה ולעוג.\n",
            "סד  ד ישמע, אנחתי, לא יחמול;    ותלהט, לא-אירש ואימ.\n",
            "סה  נמשפט, תחת עליו;    ויבוזו קץ, והוא בשעלי.\n",
            "סו   וימכורטר, שמיים;    ויגווע רשעים, תהפוכות צרת.\n",
            "סז   הוא טרף, אלוה הייתם;    יבש חציר, כסופהנה.\n",
            "סח  כי רשעים, אמרתי בתורת;    ועל צריהם רשעים.\n",
            "סט  אשר חירפו אויביך;    יהוה, לא יראו-אור.\n",
            "ע  אשר חירפו, אויביך יהוה:   לה יראו-שרי יוד, לא יראו.\n",
            "עא  על-גבי, לא יראו;    אף-דימון, לא יישקל.\n",
            "עב  שונאיך, ביראת יהוה--    הן תחמול, תהיהצירים;אמריה רב,    לא אריך.\n",
            "תהילים  מי-ייתן, לא מצאתך;    מאיש, ולא השתי.\n",
            "איוב פרק יט\n",
            "א  גדול יהוה, תפילתי;    האזינה, תור-אוון.\n",
            "ב  נאמר על-ולבוא, יהוה--    הן סופה במעגלי; ולשמור,    לרעות אדם.\n",
            "ג  כי טוב הם אמיתך,    עד-יגאההר סלה; אוהבת,    שנים סוס.\n",
            "ד  לא-באו, אלך בנפש, משברי;    וזרעם, האבות רשעים.\n",
            "ה  יאמר-נא אחרי הולידו;    ובני ממני, יצדק.\n",
            "ו  אשר בהם אכלה, בקרב הארץ;    ארך אפיים, על-עפר נפשי.\n",
            "ז  לא- חסדו חורבות, חיללתי;    כל-עצמותיי המים, מן-היום.\n",
            "ח  שיוצור, לעיניהם;   ערוות תצמיח, בלב ימים.\n",
            "ט  מספר בוקר, הרחיק, תיכו;    חדת להם המים, בלב ימים.\n",
            "י  הא ביער כרים, תפר;    ולא ירשיענו, תשוב אין.\n",
            "יא  אורח האבנים דויד, כאשר בקרביך;    וידיו,עבים-אף.\n",
            "יב  המימיךוני אפריים, אמגנך יהוה;    ושער אל-תעש ואל-ברי יעלה.\n",
            "יג  פן- וחסה\n",
            "\n",
            "[6050 | 1360.85] loss=0.08 avg=0.10\n"
          ],
          "name": "stdout"
        }
      ]
    },
    {
      "cell_type": "code",
      "metadata": {
        "id": "CWNr9p1YUgpS",
        "colab_type": "code",
        "outputId": "e6395aa8-cdcf-44d8-f421-d7307e5c7dd3",
        "colab": {
          "base_uri": "https://localhost:8080/",
          "height": 52
        }
      },
      "source": [
        "!cat /content/checkpoint/$run_name/checkpoint"
      ],
      "execution_count": 14,
      "outputs": [
        {
          "output_type": "stream",
          "text": [
            "model_checkpoint_path: \"model-5000\"\n",
            "all_model_checkpoint_paths: \"model-5000\"\n"
          ],
          "name": "stdout"
        }
      ]
    },
    {
      "cell_type": "markdown",
      "metadata": {
        "id": "IXSuTNERaw6K",
        "colab_type": "text"
      },
      "source": [
        "After the model is trained, you can copy the checkpoint folder to your own Google Drive.\n",
        "\n",
        "If you want to download it to your personal computer, it's strongly recommended you copy it there first, then download from Google Drive. The checkpoint folder is copied as a `.rar` compressed file; you can download it and uncompress it locally."
      ]
    },
    {
      "cell_type": "code",
      "metadata": {
        "id": "VHdTL8NDbAh3",
        "colab_type": "code",
        "colab": {}
      },
      "source": [
        "gpt2.copy_checkpoint_to_gdrive(run_name=run_name)\n"
      ],
      "execution_count": 0,
      "outputs": []
    },
    {
      "cell_type": "code",
      "metadata": {
        "id": "hNdHkMCCtmVR",
        "colab_type": "code",
        "colab": {}
      },
      "source": [
        "!cp -r \"./checkpoint/$run_name\" \"/content/drive/My Drive/colab_data/gpt2/\""
      ],
      "execution_count": 0,
      "outputs": []
    },
    {
      "cell_type": "code",
      "metadata": {
        "id": "d7Xu37ri6xAY",
        "colab_type": "code",
        "colab": {}
      },
      "source": [
        "!mkdir \"/content/drive/My Drive/colab_data/gpt2/$run_name-samples\"\n",
        "!cp -r \"./samples/\" \"/content/drive/My Drive/colab_data/gpt2/$run_name-samples\""
      ],
      "execution_count": 0,
      "outputs": []
    },
    {
      "cell_type": "code",
      "metadata": {
        "id": "ve_QBohR6nuV",
        "colab_type": "code",
        "outputId": "e4368814-d716-4461-b0d0-8b05b792f6e2",
        "colab": {
          "base_uri": "https://localhost:8080/",
          "height": 34
        }
      },
      "source": [
        "gpt2.reset_session(sess)"
      ],
      "execution_count": 18,
      "outputs": [
        {
          "output_type": "execute_result",
          "data": {
            "text/plain": [
              "<tensorflow.python.client.session.Session at 0x7fb3aaf24860>"
            ]
          },
          "metadata": {
            "tags": []
          },
          "execution_count": 18
        }
      ]
    },
    {
      "cell_type": "code",
      "metadata": {
        "id": "W4jwIDX-g90S",
        "colab_type": "code",
        "outputId": "ce5a881b-8a96-4be5-a1ec-51f5a996e8e2",
        "colab": {
          "base_uri": "https://localhost:8080/",
          "height": 52
        }
      },
      "source": [
        "sess = gpt2.start_tf_sess()\n",
        "gpt2.load_gpt2(sess, run_name=run_name)"
      ],
      "execution_count": 19,
      "outputs": [
        {
          "output_type": "stream",
          "text": [
            "Loading checkpoint checkpoint/Hebrew_Bible-k/model-5000\n",
            "INFO:tensorflow:Restoring parameters from checkpoint/Hebrew_Bible-k/model-5000\n"
          ],
          "name": "stdout"
        }
      ]
    },
    {
      "cell_type": "markdown",
      "metadata": {
        "id": "ClJwpF_ACONp",
        "colab_type": "text"
      },
      "source": [
        "## Generate Text From The Trained Model\n",
        "\n",
        "After you've trained the model or loaded a retrained model from checkpoint, you can now generate text. `generate` generates a single text from the loaded model."
      ]
    },
    {
      "cell_type": "code",
      "metadata": {
        "id": "4RNY6RBI9LmL",
        "colab_type": "code",
        "outputId": "7dd78876-b555-4b91-c6e3-eaf12731f8dd",
        "colab": {
          "base_uri": "https://localhost:8080/",
          "height": 662
        }
      },
      "source": [
        "#gpt2.generate(sess, run_name=run_name, prefix=\"<|startoftext|>\", truncate=\"<|endoftext|>\")\n",
        "gpt2.generate(sess, run_name=run_name, prefix=\" \", include_prefix=False,)\n"
      ],
      "execution_count": 38,
      "outputs": [
        {
          "output_type": "stream",
          "text": [
            "א,א ויהי רעב, בארץ; וימצא בנים מתלקחת, ויישב שלמה, ארצה. \n",
            "נ,ב ויהי רעב, בארץ; וילך עשיו, שפך הגדול, ושם, הייתה בירושלים מעון. \n",
            "נ,ג ויאמר יהוה אל-משה, מות יומת האיש; והוא הבית ולהשמיד ויגידו, ושם אשת יעשו. \n",
            "נ,ד ויאמר יהוה אל-משה ואל-אהרון, מן-היום הזה--כי בכסף וישראל בי, לפניך; מי-אתה אתם היום, לפניך. \n",
            "נ,ה ויאמר עשיו--אחרי בירושלים, תרימו בהם:  שובו האיש, בגרר ירובעם; ויאמר, תפתה וגם- פצהאלה את-הבית. \n",
            "נ,ו ויהי, בבוקר, ותיפעם, בית עשיו--עד-אחוזת האיש, את-גיא מיזה; ויאמרו, אל-כל-עדת בני ישראל. \n",
            "נ,ז ויבוא יעקוב אחות יריחו, והנה יושב על-מזבח יהוה, ויאמר, לפניו, והנה:  למען, אשר, לא-המזבח את-העולה ואת-החלבים, ואת-החלבים. \n",
            "נ,ח ויאמר עשיו--אחרי-נא ידך, האנשים האלה:  אשר אמר-לו, ויקראו-לו קח-לך. \n",
            "נ,ט ויאמר, אל-העם, בניי בו על-מזבח יהוה:  כי-יבש,סח הזה אשר אתם עושים, על-ישראל. \n",
            "נ,י ויאמר, אל-משה, אני ידעתי, ביד מלך-ישראל; ונמכרוינה, על-יד עשיו, לפניו. \n",
            "נ,יא ויעמדו הדברו, כימים מעל, החייתם מהרבה, כור הארץ; אל-יהוה--אל-המחנה, יהודית. \n",
            "נ,יב ויהי, כשמוע המלך אחשוורוש, בחלום ליהוה--ככתוב, לפני יהוה;גברים המלך, על-דברי המלך. \n",
            "נ,יג ויהי-לי אחשוורוש, בחלום ליהוה, ויעלו אחת; ואתנך נא-לי, ונשק לרשתה גאוותך, ויאמרו, כול חיל--והביא הוא, לא אדוני. \n",
            "נ,יד ויאמר, אליו:  נלכה אעשה משם, והחטאת. \n",
            "נ,טו ויאמר, אליו, רוכב מלך-יהודה, וילך ואחריו, אל-גדעון, מעל, בני המזבח. \n",
            "נ,טז ויאמר, בי נשבעתי:  אם על-ישראל, אלוהי ישראל--אשר גידלו, את-האבנים, את-נביאיו. \n",
            "נ,יזקלז, אשר-שמו, בארץ, אשר האלוהים המלך; וישלח שלמה את-מקומו ואת-האיל ואת-שאלו, ואת-עולת עליך. \n",
            "נ,יח וייבן שם בישראל ליהוה, להחריד את-נתניהו ואת-עולת המלך אחשוורוש, מלכי מדיין--לכפר אבן;מלכות, אויביהם מלך, תראינה, מעליו. \n",
            "נ,יט וילך, בניהו בן-יהוידע מלך מואב, אל-יהוה אלוהינו:  והיהודים, וחולה הייתה-לי הרעה. \n",
            "נ,כ ואת-האדרת-- יעזוב, אשר אדונייה חשבון ממנה; ואת- ויורנו, אשר היו בקולה. \n",
            "נ,כא ואת- ויורנו, אשר הקדשתי בקולה, מעם, בדרך; ואת, בארון. \n",
            "נ,כב ואת-האיל ואת- וחישב ואת-מתניה, אשר בחר-לו, את-הדברים האלה--לפני יהוה אלוהינו; אז, בית ישראל. \n",
            "נ,כג וישלח שלמה, את-הכסף ואת-כל-אפס, ואת-האיל-- יוקטן רועה לקום, ואת-האיל. \n",
            "נ,כד וימת, במה השלישי; וימת, אחרי אביו, ברח, הר- מלפני. \n",
            "נ,כה ויקבוץ, כל-הזהב בעיניך, ותדבר להם, אשר איוועד לך, שמה; ויקבוץ, את-הסוסים, והנה אין יהוה אלוהינו. \n",
            "נ,כו ויאמר שלמה, לבנות את-הכסף שמות ייכתבו, אשר לא-יקים את-הכסף וצידון וייקדו, לרעה היום הזה; ויחבושו האנשים, ממנו. \n",
            "נ,כז ותרא את-בריתי, ואת-האיל אשר תעשון; ושמה, ואת-שתי לראשי. \n",
            "נ,כח וגם ידעתי--שם, לאבינו; והנה, כאשר היה מותי, על- ויששכר, אשר-יהוה אלוהיך נותן לך. \n",
            "נ,כט רק כל-בשר אשר-דיברתי לך, בכול, יהוה אלוהיך; והיו לך מסביב, מפניך. \n",
            "נ,ל ויאמר אליו יהוה, עד-מתיי אתה שפעת תצילני, אשר נשבע, לאבותיך. \n",
            "נ,לא ויאמר, יהוה אלוהיך, כי-עזב אלוהים את-כל-בשר, ארוץ מאותך אותי ואת-הכרמים ואת-מבניו, ואת-האגמים; ויקריבו, כמוך. \n",
            "נ,לב והיה, כי-יהוה אלוהיך נותן לך--ישלח, וקציר; והנושא אותה מעל אדמתם, בארץ. \n",
            "נ,לג והיה אם-לא חפצת בה, ועל-בני עמון בך בגבעת, אתה אליי, ימותו; והנושא אותה בך, בבית הזה. \n",
            "נ,לד ויאמר יהוה אליי, רעתך אתה-הוא משפט מצריים:  כי אתה-הוא משפט הוא, עד-בואי משפט לרדת. \n",
            "נ,לה ויאמר יהוה, אליי, אם-לא הבית, לירושלים; ובא את-כל-בגדי אמן, על-הנפש. \n",
            "נ,לו הנה יהושוע, וכל-ישראל בגדיו משפט;גאוות בית-אלוהינו, צדיק יהוה.\n"
          ],
          "name": "stdout"
        }
      ]
    },
    {
      "cell_type": "markdown",
      "metadata": {
        "id": "oF4-PqF0Fl7R",
        "colab_type": "text"
      },
      "source": [
        "If you're creating an API based on your model and need to pass the generated text elsewhere, you can do `text = gpt2.generate(sess, return_as_list=True)[0]`\n",
        "\n",
        "You can also pass in a `prefix` to the generate function to force the text to start with a given character sequence and generate text from there (good if you add an indicator when the text starts).\n",
        "\n",
        "You can also generate multiple texts at a time by specifing `nsamples`. Unique to GPT-2, you can pass a `batch_size` to generate multiple samples in parallel, giving a massive speedup (in Colaboratory, set a maximum of 20 for `batch_size`).\n",
        "\n",
        "Other optional-but-helpful parameters for `gpt2.generate` and friends:\n",
        "\n",
        "*  **`length`**: Number of tokens to generate (default 1023, the maximum)\n",
        "* **`temperature`**: The higher the temperature, the crazier the text (default 0.7, recommended to keep between 0.7 and 1.0)\n",
        "* **`top_k`**: Limits the generated guesses to the top *k* guesses (default 0 which disables the behavior; if the generated output is super crazy, you may want to set `top_k=40`)\n",
        "* **`top_p`**: Nucleus sampling: limits the generated guesses to a cumulative probability. (gets good results on a dataset with `top_p=0.9`)\n",
        "* **`truncate`**: Truncates the input text until a given sequence, excluding that sequence (e.g. if `truncate='<|endoftext|>'`, the returned text will include everything before the first `<|endoftext|>`). It may be useful to combine this with a smaller `length` if the input texts are short.\n",
        "*  **`include_prefix`**: If using `truncate` and `include_prefix=False`, the specified `prefix` will not be included in the returned text."
      ]
    },
    {
      "cell_type": "code",
      "metadata": {
        "id": "ADKAaadcVzwo",
        "colab_type": "code",
        "colab": {}
      },
      "source": [
        "!ln -s /content/checkpoint/$run_name /content/checkpoint/run1"
      ],
      "execution_count": 0,
      "outputs": []
    },
    {
      "cell_type": "code",
      "metadata": {
        "id": "8DKMc0fiej4N",
        "colab_type": "code",
        "colab": {}
      },
      "source": [
        "gpt2.generate(sess,\n",
        "              length=250,\n",
        "              temperature=0.7,\n",
        "              prefix=\"א,א ויקח מנשה פומפרניקל את\",\n",
        "              #truncate=\"<|endoftext|>\",\n",
        "              include_prefix=False,\n",
        "              nsamples=5,\n",
        "              batch_size=5\n",
        "              )"
      ],
      "execution_count": 0,
      "outputs": []
    },
    {
      "cell_type": "markdown",
      "metadata": {
        "id": "zjjEN2Tafhl2",
        "colab_type": "text"
      },
      "source": [
        "For bulk generation, you can generate a large amount of text to a file and sort out the samples locally on your computer. The next cell will generate a generated text file with a unique timestamp.\n",
        "\n",
        "You can rerun the cells as many times as you want for even more generated texts!"
      ]
    },
    {
      "cell_type": "code",
      "metadata": {
        "id": "Fa6p6arifSL0",
        "colab_type": "code",
        "colab": {}
      },
      "source": [
        "gen_file = 'gpt2_gentext_{:%Y%m%d_%H%M%S}.txt'.format(datetime.utcnow())\n",
        "\n",
        "gpt2.generate_to_file(sess,\n",
        "                      destination_path=gen_file,\n",
        "                      prefix=\" \",\n",
        "                      #truncate=\"<|endoftext|>\",\n",
        "                      include_prefix=False,\n",
        "                      length=500,\n",
        "                      temperature=0.7,\n",
        "                      nsamples=100,\n",
        "                      batch_size=20\n",
        "                      )"
      ],
      "execution_count": 0,
      "outputs": []
    },
    {
      "cell_type": "code",
      "metadata": {
        "id": "0-LRex8lfv1g",
        "colab_type": "code",
        "colab": {}
      },
      "source": [
        "# may have to run twice to get file to download\n",
        "files.download(gen_file)"
      ],
      "execution_count": 0,
      "outputs": []
    }
  ]
}